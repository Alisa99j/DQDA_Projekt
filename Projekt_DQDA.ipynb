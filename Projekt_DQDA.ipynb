{
 "cells": [
  {
   "cell_type": "code",
   "execution_count": 6,
   "id": "775b6d4c",
   "metadata": {
    "ExecuteTime": {
     "end_time": "2024-01-25T18:19:14.119352900Z",
     "start_time": "2024-01-25T18:19:13.965503100Z"
    }
   },
   "outputs": [
    {
     "name": "stdout",
     "output_type": "stream",
     "text": [
      "<class 'pandas.core.frame.DataFrame'>\n",
      "RangeIndex: 20803 entries, 0 to 20802\n",
      "Data columns (total 17 columns):\n",
      " #   Column       Non-Null Count  Dtype  \n",
      "---  ------       --------------  -----  \n",
      " 0   Unnamed: 0   20803 non-null  int64  \n",
      " 1   name         20803 non-null  object \n",
      " 2   url          20803 non-null  object \n",
      " 3   year         20536 non-null  float64\n",
      " 4   certificate  7903 non-null   object \n",
      " 5   rating       11600 non-null  float64\n",
      " 6   votes        11600 non-null  object \n",
      " 7   plot         20803 non-null  object \n",
      " 8   Action       20803 non-null  bool   \n",
      " 9   Adventure    20803 non-null  bool   \n",
      " 10  Comedy       20803 non-null  bool   \n",
      " 11  Crime        20803 non-null  bool   \n",
      " 12  Family       20803 non-null  bool   \n",
      " 13  Fantasy      20803 non-null  bool   \n",
      " 14  Mystery      20803 non-null  bool   \n",
      " 15  Sci-Fi       20803 non-null  bool   \n",
      " 16  Thriller     20803 non-null  bool   \n",
      "dtypes: bool(9), float64(2), int64(1), object(5)\n",
      "memory usage: 1.4+ MB\n"
     ]
    }
   ],
   "source": [
    "import pandas as pd\n",
    "\n",
    "file_path = \"C:/Users/monaa/Desktop/Seminare & Vorlesungen/Projektmanagement ILV/imdb-videogames.csv\"\n",
    "df = pd.read_csv(file_path)\n",
    "df.info()"
   ]
  },
  {
   "cell_type": "code",
   "execution_count": 7,
   "outputs": [
    {
     "name": "stdout",
     "output_type": "stream",
     "text": [
      "Genre: Action\n",
      "        rating      votes\n",
      "year                     \n",
      "1952  7.000000  22.000000\n",
      "1962  6.800000  50.000000\n",
      "1970  4.300000  12.000000\n",
      "1971  6.250000  27.500000\n",
      "1972  4.866667  11.666667\n",
      "Genre: Adventure\n",
      "      rating  votes\n",
      "year               \n",
      "1971    7.70  171.0\n",
      "1972    6.70   11.0\n",
      "1976    6.60   15.0\n",
      "1977    6.55   44.0\n",
      "1978    6.60   24.0\n",
      "Genre: Comedy\n",
      "        rating  votes\n",
      "year                 \n",
      "1981  6.900000   27.0\n",
      "1982  7.500000   20.0\n",
      "1983  6.666667   45.0\n",
      "1984  6.425000  116.5\n",
      "1985  7.250000   38.5\n",
      "Genre: Crime\n",
      "      rating  votes\n",
      "year               \n",
      "1980    3.75   12.0\n",
      "1981    6.20    7.0\n",
      "1982    6.10   38.0\n",
      "1983    6.60   95.0\n",
      "1985    7.30   70.0\n",
      "Genre: Family\n",
      "        rating       votes\n",
      "year                      \n",
      "1971  7.700000  171.000000\n",
      "1972  4.850000  160.000000\n",
      "1973  4.500000   15.000000\n",
      "1975  3.600000   11.000000\n",
      "1976  5.016667   31.666667\n",
      "Genre: Fantasy\n",
      "        rating      votes\n",
      "year                     \n",
      "1972  6.700000  11.000000\n",
      "1975  7.266667   8.333333\n",
      "1976  6.600000  15.000000\n",
      "1977  7.100000  30.000000\n",
      "1979  6.500000  40.000000\n",
      "Genre: Mystery\n",
      "      rating  votes\n",
      "year               \n",
      "1972     4.2   17.0\n",
      "1980     5.7    8.0\n",
      "1982     6.1   38.0\n",
      "1983     6.6   12.0\n",
      "1984     7.1   20.5\n",
      "Genre: Sci-Fi\n",
      "        rating      votes\n",
      "year                     \n",
      "1962  6.800000  50.000000\n",
      "1969  6.950000  11.000000\n",
      "1971  6.466667  27.666667\n",
      "1972  5.166667  10.333333\n",
      "1973  5.225000  12.250000\n",
      "Genre: Thriller\n",
      "        rating       votes\n",
      "year                      \n",
      "1975  6.300000   24.000000\n",
      "1980  4.750000   10.500000\n",
      "1983  6.000000  111.000000\n",
      "1987  5.300000  164.000000\n",
      "1988  7.566667   80.666667\n"
     ]
    }
   ],
   "source": [
    "import pandas as pd\n",
    "\n",
    "file_path = \"C:/Users/monaa/Desktop/Seminare & Vorlesungen/Projektmanagement ILV/imdb-videogames.csv\"\n",
    "df = pd.read_csv(file_path)\n",
    "\n",
    "# Bereinigen Sie die Daten\n",
    "# Entfernen Sie Zeilen, in denen das Jahr oder die Bewertung NaN ist\n",
    "df = df.dropna(subset=['year', 'rating'])\n",
    "\n",
    "# 'year' in einen Integer konventieren \n",
    "df['year'] = df['year'].astype(int)\n",
    "\n",
    "# Umwandeln von 'votes' in numerische Werte\n",
    "df['votes'] = df['votes'].str.replace(',', '').astype(float)\n",
    "\n",
    "# Berechnung der durchschnittlichen Bewertungen und Stimmenanzahl pro Jahr für jedes Genre\n",
    "genre_columns = ['Action', 'Adventure', 'Comedy', 'Crime', 'Family', 'Fantasy', 'Mystery', 'Sci-Fi', 'Thriller']\n",
    "for genre in genre_columns:\n",
    "    genre_df = df[df[genre] == True]\n",
    "    yearly_stats = genre_df.groupby('year')[['rating', 'votes']].mean()\n",
    "    print(f\"Genre: {genre}\")\n",
    "    print(yearly_stats.head())  # Zeigt die ersten paar Jahre als Beispiel"
   ],
   "metadata": {
    "collapsed": false,
    "ExecuteTime": {
     "end_time": "2024-01-25T20:28:26.552681200Z",
     "start_time": "2024-01-25T20:28:26.373666600Z"
    }
   },
   "id": "fa749499f0c89bb2"
  },
  {
   "cell_type": "code",
   "execution_count": 8,
   "outputs": [
    {
     "name": "stdout",
     "output_type": "stream",
     "text": [
      "Der Datensatz reicht vom Jahr 1952.0 bis 2027.0.\n"
     ]
    }
   ],
   "source": [
    "import pandas as pd\n",
    "\n",
    "file_path = \"C:/Users/monaa/Desktop/Seminare & Vorlesungen/Projektmanagement ILV/imdb-videogames.csv\"\n",
    "df = pd.read_csv(file_path)\n",
    "\n",
    "# 'year' in einen Integer konventieren \n",
    "df['year'] = df['year'].dropna().astype(int)\n",
    "\n",
    "# Ermitteln des frühesten und spätesten Jahres\n",
    "min_year = df['year'].min()\n",
    "max_year = df['year'].max()\n",
    "\n",
    "print(f\"Der Datensatz reicht vom Jahr {min_year} bis {max_year}.\")"
   ],
   "metadata": {
    "collapsed": false,
    "ExecuteTime": {
     "end_time": "2024-01-25T20:32:04.611580900Z",
     "start_time": "2024-01-25T20:32:04.484783400Z"
    }
   },
   "id": "aee36658212715d"
  }
 ],
 "metadata": {
  "kernelspec": {
   "display_name": "Python 3 (ipykernel)",
   "language": "python",
   "name": "python3"
  },
  "language_info": {
   "codemirror_mode": {
    "name": "ipython",
    "version": 3
   },
   "file_extension": ".py",
   "mimetype": "text/x-python",
   "name": "python",
   "nbconvert_exporter": "python",
   "pygments_lexer": "ipython3",
   "version": "3.11.4"
  }
 },
 "nbformat": 4,
 "nbformat_minor": 5
}
