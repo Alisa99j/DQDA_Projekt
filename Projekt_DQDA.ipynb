{
 "cells": [
  {
   "cell_type": "code",
   "execution_count": 6,
   "id": "775b6d4c",
   "metadata": {
    "ExecuteTime": {
     "end_time": "2024-01-25T18:19:14.119352900Z",
     "start_time": "2024-01-25T18:19:13.965503100Z"
    }
   },
   "outputs": [
    {
     "name": "stdout",
     "output_type": "stream",
     "text": [
      "<class 'pandas.core.frame.DataFrame'>\n",
      "RangeIndex: 20803 entries, 0 to 20802\n",
      "Data columns (total 17 columns):\n",
      " #   Column       Non-Null Count  Dtype  \n",
      "---  ------       --------------  -----  \n",
      " 0   Unnamed: 0   20803 non-null  int64  \n",
      " 1   name         20803 non-null  object \n",
      " 2   url          20803 non-null  object \n",
      " 3   year         20536 non-null  float64\n",
      " 4   certificate  7903 non-null   object \n",
      " 5   rating       11600 non-null  float64\n",
      " 6   votes        11600 non-null  object \n",
      " 7   plot         20803 non-null  object \n",
      " 8   Action       20803 non-null  bool   \n",
      " 9   Adventure    20803 non-null  bool   \n",
      " 10  Comedy       20803 non-null  bool   \n",
      " 11  Crime        20803 non-null  bool   \n",
      " 12  Family       20803 non-null  bool   \n",
      " 13  Fantasy      20803 non-null  bool   \n",
      " 14  Mystery      20803 non-null  bool   \n",
      " 15  Sci-Fi       20803 non-null  bool   \n",
      " 16  Thriller     20803 non-null  bool   \n",
      "dtypes: bool(9), float64(2), int64(1), object(5)\n",
      "memory usage: 1.4+ MB\n"
     ]
    }
   ],
   "source": [
    "import pandas as pd\n",
    "\n",
    "file_path = \"C:/Users/monaa/Desktop/Seminare & Vorlesungen/Projektmanagement ILV/imdb-videogames.csv\"\n",
    "df = pd.read_csv(file_path)\n",
    "df.info()"
   ]
  }
 ],
 "metadata": {
  "kernelspec": {
   "display_name": "Python 3 (ipykernel)",
   "language": "python",
   "name": "python3"
  },
  "language_info": {
   "codemirror_mode": {
    "name": "ipython",
    "version": 3
   },
   "file_extension": ".py",
   "mimetype": "text/x-python",
   "name": "python",
   "nbconvert_exporter": "python",
   "pygments_lexer": "ipython3",
   "version": "3.11.4"
  }
 },
 "nbformat": 4,
 "nbformat_minor": 5
}
